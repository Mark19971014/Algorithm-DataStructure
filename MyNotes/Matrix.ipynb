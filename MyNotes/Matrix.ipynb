{
 "cells": [
  {
   "attachments": {},
   "cell_type": "markdown",
   "metadata": {},
   "source": [
    "# Rotate the image\n",
    "### Rotate the n x n matrix in-place in clockwise \n",
    "We transpose the matrix (row to column)then flip it(first row -> last column; second row -> last second column so on so forth)."
   ]
  },
  {
   "cell_type": "code",
   "execution_count": 2,
   "metadata": {
    "vscode": {
     "languageId": "java"
    }
   },
   "outputs": [],
   "source": [
    "class Solution{\n",
    "  public void rotate(int[][] matrix){\n",
    "        int len = matrix.length;\n",
    "        \n",
    "        // Transpose the matrix \n",
    "        for(int row = 0; row < len; row++){\n",
    "          /*  we transpose the matrix, we only put the right upper triangle element to the left lower part, here is the reason of col = row ,\n",
    "              in the first iteration, we start in row 0 col 0 \n",
    "              in the second iteration we start in row 1 col 1\n",
    "              in the third iteration we start  in row 2 col 2 */\n",
    "          for(int col = row; col < len; col++){\n",
    "            int temp = 0;\n",
    "            temp = matrix[row][col];\n",
    "            matrix[row][col] = matrix[col][row];\n",
    "            matrix[col][row] = temp;\n",
    "          }\n",
    "        }\n",
    "        // flip the \n",
    "        \n",
    "        \n",
    "        for(int row = 0; row < matrix.length; row++){\n",
    "            int left = 0;\n",
    "            int right = matrix.length - 1;\n",
    "            while(left < right){\n",
    "              int temp = 0;\n",
    "              temp = matrix[i][left];\n",
    "              matrix[i][left] = matrix[i][right];\n",
    "              matrix[i][right] = matrix[i][left];\n",
    "              left++;\n",
    "              right--;\n",
    "            }\n",
    "        }\n",
    "    }\n",
    "\n",
    "    //test \n",
    "    public static void main(String[] args) {\n",
    "      Solution test = new Solution();\n",
    "\n",
    "      int[][] matrix = {{1,2,3},{4,5,6},{7,8,9}};\n",
    "      System.out.println(\"original matrix\");\n",
    "      for (int row = 0; row < matrix[0].length; row++) {\n",
    "          for (int col = 0; col < matrix[1].length; col++) {\n",
    "              System.out.print(matrix[row][col]);\n",
    "          }\n",
    "          System.out.println();\n",
    "      }\n",
    "      test.rotate(matrix);\n",
    "\n",
    "      System.out.println(\"new matrix\");\n",
    "      for (int row = 0; row < matrix[0].length; row++) {\n",
    "          for (int col = 0; col < matrix[1].length; col++) {\n",
    "              System.out.print(matrix[row][col]);\n",
    "          }\n",
    "          System.out.println();\n",
    "      }\n",
    "  }\n",
    "    \n",
    "  }"
   ]
  }
 ],
 "metadata": {
  "kernelspec": {
   "display_name": "Java",
   "language": "java",
   "name": "java"
  },
  "language_info": {
   "codemirror_mode": "java",
   "file_extension": ".jshell",
   "mimetype": "text/x-java-source",
   "name": "Java",
   "pygments_lexer": "java",
   "version": "17.0.6+0"
  },
  "orig_nbformat": 4
 },
 "nbformat": 4,
 "nbformat_minor": 2
}
