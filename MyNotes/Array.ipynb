{
 "cells": [
  {
   "cell_type": "markdown",
   "metadata": {},
   "source": [
    "# Array"
   ]
  },
  {
   "attachments": {},
   "cell_type": "markdown",
   "metadata": {},
   "source": [
    "### 88 Merge sorted array\n",
    "you are given two integer arrays nums1 and nums2, sorted in non-decreasing order, and two integers m and n, representing the number of elements in nums1 and nums2 respectively.\\\n",
    "Merge nums1 and nums2 into a single array sorted in non-decreasing order.\\\n",
    "The final sorted array should not be returned by the function, but instead be stored inside the array nums1. To accommodate this, nums1 has a length of m + n, where the first m elements denote the elements that should be merged, and the last n elements are set to 0 and should be ignored. nums2 has a length of n.\n",
    "\n"
   ]
  },
  {
   "attachments": {},
   "cell_type": "markdown",
   "metadata": {},
   "source": [
    "#### Approach one \n",
    "Adding the elements of nums2 to nums1 then sort the nums1\\\n",
    "Time complexity: O(n^2)\\\n",
    "Space complexity: O(1)\n"
   ]
  },
  {
   "cell_type": "code",
   "execution_count": null,
   "metadata": {
    "vscode": {
     "languageId": "java"
    }
   },
   "outputs": [],
   "source": [
    "public void merge(int[] nums1, int m, int[] nums2, int n) {\n",
    "  if (n == 0) {\n",
    "      return; // nums2 is empty, no merging needed\n",
    "  }\n",
    "  int k = 0;\n",
    "  if(m == 0){\n",
    "      for(int i = 0; i < n; i++){\n",
    "          nums1[i] = nums2[k++];\n",
    "      }\n",
    "  }\n",
    "\n",
    "  for(int i = m; i < m + n ; i++){\n",
    "      nums1[i] = nums2[k++];\n",
    "  }\n",
    "  // insertion sort\n",
    "  for(int i = 1; i < m + n; i++){\n",
    "      // find the current element need to be sorted\n",
    "      int key = nums1[i];\n",
    "      // the index we start to compare the value\n",
    "      int j = i - 1;\n",
    "      //as long as current elements greater than the key\n",
    "      while(j >= 0 && nums1[j] > key){\n",
    "          // right shift the current element\n",
    "          nums1[j + 1] = nums1[j];\n",
    "          j--;\n",
    "      }\n",
    "      // find the correct position, since when we quit the while loop we find the index of the element which less than the key,\n",
    "      // so the index behind this index is where we put the key\n",
    "      nums1[j + 1] = key;\n",
    "  }\n",
    "\n",
    "}"
   ]
  },
  {
   "attachments": {},
   "cell_type": "markdown",
   "metadata": {},
   "source": [
    "#### Approach two\n",
    " compare the value of elements in the nums1 and nums2 and directly add them into nums2 with the correct ordering\\\n",
    " Time complexity: O(m + n)\\\n",
    "Space complexity: O(1)"
   ]
  },
  {
   "cell_type": "code",
   "execution_count": null,
   "metadata": {
    "vscode": {
     "languageId": "java"
    }
   },
   "outputs": [],
   "source": [
    "public void merge(int[] nums1,int m, int[] nums2, int n){\n",
    "        int idx = m + n - 1;\n",
    "        int i = m - 1;\n",
    "        int j = n - 1;\n",
    "        while(i >= 0 && j >= 0){\n",
    "            nums1[idx --] = (nums1[i] > nums2[j]) ? nums1[i--]: nums2[j--];\n",
    "        }\n",
    "        while (j >= 0){\n",
    "            nums1[idx --] = nums2[j--];\n",
    "        }\n",
    "    }"
   ]
  }
 ],
 "metadata": {
  "language_info": {
   "name": "python"
  },
  "orig_nbformat": 4
 },
 "nbformat": 4,
 "nbformat_minor": 2
}
