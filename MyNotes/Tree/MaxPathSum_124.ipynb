{
 "cells": [
  {
   "cell_type": "markdown",
   "metadata": {},
   "source": [
    "Local Sum (priceNewpath): At each node, it calculates the sum of the best path that goes through the node, which includes the node itself and the maximum sum of paths going down both its left and right children. This is the best path sum for that particular node, but it can't be extended because it already stretches to both sides of the node.\n",
    "\n",
    "Return to Parent: It then returns to the parent node the value of the node itself plus the greater of the two sums coming from its children. This value represents the best contribution that node can make to a path sum that includes the parent and either the left or right child, but not both. It is important because it tells the parent node what the best path sum is if the path were to continue through this node.\n",
    "\n",
    "Global Max (maxSum): Simultaneously, it updates a global variable maxSum with the local sum if the local sum is greater than the current value of maxSum. This global variable represents the best path sum found anywhere in the tree so far and it accounts for the possibility that the node being processed might be the highest node in the best path that spans from a leaf on one side of the tree to a leaf on the other side.\n",
    "\n",
    "In the diagram you provided, node 1 calculates the local sum (which is 1 + 2 + 3 = 6) and updates maxSum if this local sum is greater. It then returns 1 + Math.max(2, 3) to the parent node (which in this case is 4), so the parent node (node 9) can use this information to potentially update maxSum with a larger value if the path continuing through node 9 is the best one. If node 9 also has its own left and right children, it will similarly compute a local sum and return the best contribution to its own parent."
   ]
  },
  {
   "cell_type": "code",
   "execution_count": null,
   "metadata": {
    "vscode": {
     "languageId": "plaintext"
    }
   },
   "outputs": [],
   "source": []
  }
 ],
 "metadata": {
  "language_info": {
   "name": "python"
  }
 },
 "nbformat": 4,
 "nbformat_minor": 2
}
