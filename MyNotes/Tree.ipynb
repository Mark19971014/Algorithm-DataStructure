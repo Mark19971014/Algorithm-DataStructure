{
 "cells": [
  {
   "attachments": {},
   "cell_type": "markdown",
   "metadata": {},
   "source": [
    "# Tree "
   ]
  },
  {
   "attachments": {},
   "cell_type": "markdown",
   "metadata": {},
   "source": [
    "The TreeNode class for all the questions"
   ]
  },
  {
   "cell_type": "code",
   "execution_count": null,
   "metadata": {},
   "outputs": [],
   "source": [
    "class TreeNode{\n",
    "  int val;\n",
    "  TreeNode left;\n",
    "  TreeNode right;\n",
    "  TreeNode(){};\n",
    "  TreeNode(int val){\n",
    "    this.val = val;\n",
    "  }\n",
    "  TreeNode(int val,TreeNode left, TreeNode right){\n",
    "    this.val = val;\n",
    "    this.left = left;\n",
    "    this.right = right;\n",
    "  }\n",
    "}"
   ]
  },
  {
   "attachments": {},
   "cell_type": "markdown",
   "metadata": {},
   "source": [
    "\n",
    "### 104 Maximum Depth of Binary Tree\n",
    "Given the root of a binary tree, return its maximum depth.\n",
    "<br>\n",
    "A binary tree's maximum depth is the number of nodes along the longest path from the root node down to the farthest leaf node.\n",
    "\n"
   ]
  },
  {
   "attachments": {},
   "cell_type": "markdown",
   "metadata": {},
   "source": [
    "Normal recursion\\\n",
    "We recursively check if the current node has the child node,The base case is the node´s left or right child node is null, in this case, we return 0. we increment one to the current depth as long as the node has the child node to record the current level. In the end We compare the left depth and right depth to get the current max depth."
   ]
  },
  {
   "cell_type": "code",
   "execution_count": null,
   "metadata": {},
   "outputs": [],
   "source": [
    "public class solution{\n",
    "  int maxDepth(TreeNode root){\n",
    "    if (root == null){\n",
    "      return 0;\n",
    "    }\n",
    "\n",
    "    int leftDepth  = maxDepth(root.left);\n",
    "    int rightDepth = maxDepth(root.right);\n",
    "\n",
    "    return Math.max(leftDepth,rightDepth) + 1;\n",
    "  }\n",
    "}"
   ]
  },
  {
   "attachments": {},
   "cell_type": "markdown",
   "metadata": {},
   "source": [
    "Tail recursion\\\n",
    "We use an accurmulate variable to save the current depth, as long as the current tree node has the child node we increment one to the accurmulator. In the end we directly return the accurmulator\n"
   ]
  },
  {
   "cell_type": "code",
   "execution_count": null,
   "metadata": {},
   "outputs": [],
   "source": [
    "public class solution{\n",
    "  int maxDepth(TreeNode root){\n",
    "    int depth = 0;\n",
    "    return helper(root, depth);\n",
    "  }\n",
    "\n",
    "  int helper(TreeNode root ,int depth){\n",
    "    if(root == null){\n",
    "      return depth;\n",
    "    }\n",
    "    int leftDepth = helper(root.left, depth + 1);\n",
    "    int rightDepth = helper(root.right,depth + 1);\n",
    "    return Math.max(leftDepth,rightDepth);\n",
    "  }\n",
    "}"
   ]
  },
  {
   "attachments": {},
   "cell_type": "markdown",
   "metadata": {},
   "source": [
    "### 105 Construct the binary tree from inorder and preorder array\n",
    "\n",
    "Given two integer arrays preorder and inorder where preorder is the preorder traversal of a binary tree and inorder is the inorder traversal of the same tree, construct and return the binary tree.\n",
    "\n",
    "\n",
    "What if the elements are not unique?"
   ]
  },
  {
   "attachments": {},
   "cell_type": "markdown",
   "metadata": {},
   "source": [
    "1. use the HashMap to sotre the index of the element in the inorder array to find the pivot index(the root of the current sub-Tree)\n",
    "2. Traverse the preorder array from head to tail in each recursion (preorderRootIdx++) because in each recursion, the value of the elements in the preorder array is the root val\n",
    "3. recursively build the left sub-tree and right sub-tree because in the preorder traverse, we traverse the left subtree first then the right subtree."
   ]
  },
  {
   "cell_type": "code",
   "execution_count": null,
   "metadata": {},
   "outputs": [],
   "source": [
    "class solution{\n",
    "int preorderRootIdx;\n",
    "Map<Integer,Integer> map;\n",
    "public TreeNode buildTree(int[] inorder, int[] preorder){\n",
    "  if(inorder == null || preorder == null){\n",
    "    return null;\n",
    "  }\n",
    "  preorderRootIdx = 0;\n",
    "  map = new HashMap<>();\n",
    "  for (int i = 0; i < inorder.length; i++){\n",
    "    map.put(inorder[i],i);\n",
    "  }\n",
    "  \n",
    "  return buildTree(preorder, 0 , preorder.length - 1);\n",
    "  }\n",
    "\n",
    "buildTree(int[] preorder, int left, int right){\n",
    "  if(left > right){\n",
    "    return null;\n",
    "  }\n",
    "  int rootVal = preorder[preorderRootIdx++];\n",
    "  TreeNode root = new TreeNode(rootVal);\n",
    "  // the cur root index in the inorder array\n",
    "  int pivotIndex = map.get(rootVal);\n",
    "  root.left = buildTree(preorder,left, pivotIndex - 1);\n",
    "  root.right = buildTree(preorder,pivotIndex  + 1, right);\n",
    "};\n",
    "\n",
    "public static void main(String[] args) {\n",
    "  int[] preorder = {3,9,20,15,7};\n",
    "  int[] inorder = {9,3,15,20,7};\n",
    "  \n",
    "  solution.buildTree(preorder,inorder);\n",
    "  } \n",
    "  \n",
    "}"
   ]
  },
  {
   "attachments": {},
   "cell_type": "markdown",
   "metadata": {},
   "source": [
    "### 106 Construct the binary tree from inorder and postorder array\n",
    "\n",
    "Given two integer arrays preorder and inorder where preorder is the preorder traversal of a binary tree and inorder is the inorder traversal of the same tree, construct and return the binary tree.\n",
    "\n",
    "\n",
    "What if the elements are not unique?"
   ]
  },
  {
   "attachments": {},
   "cell_type": "markdown",
   "metadata": {},
   "source": [
    "1.use the HashMap to sotre the index of the element in the inorder array to find the pivot index(the root of the current sub-Tree) \\\n",
    "2. Traverse the preorder array from tail to head in each recursion (preorderRootIdx++) because in each recursion, the value of the elements in the preorder array is the root val \\\n",
    "3. recursively build the right sub-tree and left sub-tree because in the preorder traverse, we traverse the right subtree first then the left subtree."
   ]
  },
  {
   "cell_type": "code",
   "execution_count": null,
   "metadata": {},
   "outputs": [],
   "source": [
    "class Solution {\n",
    "  int postIdx;\n",
    "  Map<Integer,Integer> map;\n",
    "  public TreeNode buildTree(int[] inorder, int[] postorder) {\n",
    "      if(inorder == null || postorder == null) {\n",
    "          return null;\n",
    "      };\n",
    "      \n",
    "      \n",
    "      map = new HashMap<>();\n",
    "      postIdx = postorder.length - 1;\n",
    "\n",
    "\n",
    "      for(int i = 0; i < inorder.length; i++){\n",
    "          map.put(inorder[i],i);\n",
    "      }\n",
    "      \n",
    "\n",
    "      return buildTree(postorder, 0, postorder.length - 1);\n",
    "  }\n",
    "\n",
    "  public TreeNode buildTree(int[] postorder, int left, int right){\n",
    "      if(left > right) {\n",
    "          return null;\n",
    "      }\n",
    "  \n",
    "      int rootVal = postorder[postIdx];\n",
    "      TreeNode root = new TreeNode(rootVal);\n",
    "      int rootIdx = map.get(rootVal);\n",
    "      postIdx--;\n",
    "\n",
    "      \n",
    "      root.right = buildTree(postorder, rootIdx + 1,right);\n",
    "      root.left = buildTree(postorder,left, rootIdx -1);\n",
    "      \n",
    "\n",
    "      return root;\n",
    "  }\n",
    "\n",
    "}"
   ]
  }
 ],
 "metadata": {
  "kernelspec": {
   "display_name": "Java",
   "language": "java",
   "name": "java"
  },
  "language_info": {
   "name": "java",
   "version": "3.10.8"
  },
  "orig_nbformat": 4
 },
 "nbformat": 4,
 "nbformat_minor": 2
}
